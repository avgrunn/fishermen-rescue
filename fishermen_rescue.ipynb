{
 "cells": [
  {
   "cell_type": "code",
   "execution_count": 36,
   "id": "e220c6e4-2b80-4f57-ad70-2b9bb71a9b87",
   "metadata": {},
   "outputs": [],
   "source": [
    "import numpy as np"
   ]
  },
  {
   "cell_type": "code",
   "execution_count": 57,
   "id": "2fd40579-9f87-4d90-8632-aa241aa9d287",
   "metadata": {},
   "outputs": [],
   "source": [
    "def prepare_mask(mask, shift, n):\n",
    "    if shift < len(mask) // 2:\n",
    "        mask_ = mask[(len(mask) // 2 - shift):]\n",
    "    elif n - shift - 1 < len(mask) // 2:\n",
    "        mask_ = mask[:(len(mask) // 2 + (n - shift))]\n",
    "    else:\n",
    "        mask_ = mask\n",
    "    leftpad = max(0, shift - len(mask) // 2)\n",
    "    rightpad = max(0, n - len(mask_) - leftpad)\n",
    "    mask_ = np.pad(mask_, (leftpad, rightpad), 'constant')\n",
    "    return mask_"
   ]
  },
  {
   "cell_type": "code",
   "execution_count": 58,
   "id": "1e7f3147-f017-42f7-bf5b-9ffa708e2b45",
   "metadata": {},
   "outputs": [],
   "source": [
    "def iteration(a, mask):\n",
    "    n = len(a)\n",
    "    a_ = np.zeros((n))\n",
    "    for i in range(0, n):\n",
    "        a_ += a[i] * prepare_mask(mask, i, n)\n",
    "    return a_"
   ]
  },
  {
   "cell_type": "code",
   "execution_count": 59,
   "id": "d6d442be-f457-4ce6-8996-f64f611868e4",
   "metadata": {},
   "outputs": [
    {
     "name": "stdout",
     "output_type": "stream",
     "text": [
      "[0.   0.   0.   0.   0.   0.   0.   0.   0.   0.   0.   0.   0.   0.\n",
      " 0.   0.   0.   0.   0.   0.   0.   0.   0.   0.   0.   0.   0.   0.\n",
      " 0.   0.   0.   0.   0.   0.   0.   0.   0.   0.   0.   0.   0.   0.\n",
      " 0.   0.   0.   0.   0.   0.   0.   0.25 0.5  0.25 0.   0.   0.   0.\n",
      " 0.   0.   0.   0.   0.   0.   0.   0.   0.   0.   0.   0.   0.   0.\n",
      " 0.   0.   0.   0.   0.   0.   0.   0.   0.   0.   0.   0.   0.   0.\n",
      " 0.   0.   0.   0.   0.   0.   0.   0.   0.   0.   0.   0.   0.   0.\n",
      " 0.   0.  ]\n"
     ]
    }
   ],
   "source": [
    "n = 100\n",
    "a = np.zeros((n))\n",
    "a[50] = 1\n",
    "mask = np.array([0.25, 0.5, 0.25]) # must be odd\n",
    "\n",
    "a = iteration(a, mask)\n",
    "print(a)\n",
    "\n",
    "# helicopter init\n",
    "h = np.zeros((n))\n",
    "h[49] = 1\n",
    "\n",
    "# posterior\n",
    "a *= h\n",
    "a /= np.sum(a)"
   ]
  },
  {
   "cell_type": "code",
   "execution_count": null,
   "id": "667e7c5b-0b6c-4672-8d0a-d5c839230150",
   "metadata": {},
   "outputs": [],
   "source": []
  }
 ],
 "metadata": {
  "kernelspec": {
   "display_name": "Python 3 (ipykernel)",
   "language": "python",
   "name": "python3"
  },
  "language_info": {
   "codemirror_mode": {
    "name": "ipython",
    "version": 3
   },
   "file_extension": ".py",
   "mimetype": "text/x-python",
   "name": "python",
   "nbconvert_exporter": "python",
   "pygments_lexer": "ipython3",
   "version": "3.11.6"
  }
 },
 "nbformat": 4,
 "nbformat_minor": 5
}
