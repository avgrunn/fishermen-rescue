{
 "cells": [
  {
   "cell_type": "code",
   "execution_count": null,
   "id": "01c2ab4a-91f9-4deb-bd4d-e98a55d3d004",
   "metadata": {},
   "outputs": [],
   "source": [
    "from tqdm import tqdm\n",
    "import numpy as np\n",
    "import matplotlib.pyplot as plt"
   ]
  },
  {
   "cell_type": "markdown",
   "id": "5ca342a6-88d5-49ca-80dd-9d3287be8690",
   "metadata": {},
   "source": [
    "Функция ```prepare_mask``` сдвигает матрицу перехода ```mask``` на ```i``` элементов по вертикали и на ```j``` элементов по горизонтали относительно левого верхнего края. После выполнения функции элемент ```pivot``` всегда окажется на позиции ```(i, j)```"
   ]
  },
  {
   "cell_type": "code",
   "execution_count": null,
   "id": "2fd40579-9f87-4d90-8632-aa241aa9d287",
   "metadata": {},
   "outputs": [],
   "source": [
    "def prepare_mask(mask, pivot, i, j, n, m):\n",
    "    mask_ = mask\n",
    "    if i < pivot[0]:\n",
    "        mask_ = mask_[(pivot[0] - i):]\n",
    "    if n - i - 1 < n - pivot[0] - 1:\n",
    "        mask_ = mask_[:(pivot[0] + n - i)]\n",
    "    if j < pivot[1]:\n",
    "        mask_ = mask_[:, (pivot[1] - j):]\n",
    "    if m - j - 1 < m - pivot[1] - 1:\n",
    "        mask_ = mask_[:, :(pivot[1] + m - j)]\n",
    "    pad_up = max(0, i - pivot[0])\n",
    "    pad_down = max(0, n - pad_up - mask_.shape[0])\n",
    "    pad_left = max(0, j - pivot[1])\n",
    "    pad_right = max(0, m - pad_left - mask_.shape[1])\n",
    "    mask_ = np.pad(mask_, ((pad_up, pad_down), (pad_left, pad_right)), 'constant')\n",
    "    return mask_"
   ]
  },
  {
   "cell_type": "markdown",
   "id": "9d67d6b8-8739-4a2c-8b5d-ddb260817eb1",
   "metadata": {},
   "source": [
    "##### С использованием современных технологий, центр управления способен отслеживать синоптические данные в режиме реального времени. Применяя информации о параметрах ветра в районе проведения поисковой операции становится возможным предсказать вероятности нахождения оторвавшейся льдины в каждой из областей. В данном случае в качестве упрощения в модели берётся фиксированный квант времени, за который вероятности перемещения льдины заранее известны"
   ]
  },
  {
   "cell_type": "markdown",
   "id": "383bdafe-e404-4bf7-856b-e19bd6eaf2a1",
   "metadata": {},
   "source": [
    "Функция ```iteration``` производит одну итерацию применения матрицы перехода ```mask``` к каждому элементу массива вероятностей ```prob```"
   ]
  },
  {
   "cell_type": "code",
   "execution_count": null,
   "id": "1e7f3147-f017-42f7-bf5b-9ffa708e2b45",
   "metadata": {},
   "outputs": [],
   "source": [
    "def iteration(prob, mask, pivot, n, m):\n",
    "    prob_ = np.zeros((n, m))\n",
    "    for i in range(n):\n",
    "        for j in range(m):\n",
    "            prob_ += prob[i][j] * prepare_mask(mask, pivot, i, j, n, m)\n",
    "    return prob_"
   ]
  },
  {
   "cell_type": "markdown",
   "id": "94c1a72f-89ef-4b46-832c-3a57561959d8",
   "metadata": {},
   "source": [
    "##### В моделе предусмотрено введение в систему дополнительной информации с целью уточнения и корректировки уже просчитанных вероятностей. Предоставляется интерфейс ввода вероятностей нахождения льдины в каждой из областей. Это мотивировано спецификой работы нейронных сетей распознавания образов - на выходе модели мы всегда получаем вероятность обнаружения объекта. Таким образом, на практике можно использовать любй доступный беспилотный летательный аппарат с возможностью анализа входного видеопотока с наружней камеры для определения вероятности нахождения льдины с людьми в той области, которая в данный момент просматривается БЛА. Данный подход также мотивирован неидеальностью условий, в которых человек производит наблюдения. Даже в случае задействования спасательного вертолета с наблюдателем, погодные условия (туман, осадки...), высота, острота зрения, посторонние объекты на льдинах (тёмные камни, животные...) и прочие факторы могут сказаться на уверенности спасателя в обнаружении нужной льдины с людьми"
   ]
  },
  {
   "cell_type": "markdown",
   "id": "acb433b3-2b1e-4ec6-a486-7e44cf1306ca",
   "metadata": {},
   "source": [
    "Функция ```input_information``` возвращает массив, заполненный априорными вероятностями гипотез"
   ]
  },
  {
   "cell_type": "code",
   "execution_count": null,
   "id": "5a3c9055-1705-405d-88b1-04d505a76c67",
   "metadata": {},
   "outputs": [],
   "source": [
    "def input_information(n, m):\n",
    "    info = np.full((n, m), None)\n",
    "    return info"
   ]
  },
  {
   "cell_type": "markdown",
   "id": "d3999aa5-a595-475a-9517-f6fae5fe6183",
   "metadata": {},
   "source": [
    "Функция ```clarify``` использует формулу Байеса для вычисления апостериорных вероятностей для каждого из элементов массива вероятностей ```prob``` используя априорные вероятности ```info```"
   ]
  },
  {
   "cell_type": "code",
   "execution_count": null,
   "id": "6d241492-de39-46bd-ac2c-706cd91f780f",
   "metadata": {},
   "outputs": [],
   "source": [
    "def clarify(prob, info, n, m):\n",
    "    prob_ = prob\n",
    "    for i in range(n):\n",
    "        for j in range(m):\n",
    "            if info[i][j] is not None:\n",
    "                prob_[i][j] *= info[i][j]\n",
    "    prob_ /= np.sum(prob_)\n",
    "    return prob_"
   ]
  },
  {
   "cell_type": "markdown",
   "id": "9dd355be-031c-44dc-add8-953f3931dbb7",
   "metadata": {},
   "source": [
    "##### Визуальное отображение результатов вычислений важно для принятия решений спасательным центром ввиду абстрагирования данной модели от различных комплексных факторов, таких как скорость принятия решения, риск проведения спасательной операции, особенности географии местности, оперативные данные и пр."
   ]
  },
  {
   "cell_type": "markdown",
   "id": "35d67006-8e3f-4a5d-a53c-70b804dff2bc",
   "metadata": {},
   "source": [
    "Функция ```plot_probability``` графически отображает массив вероятностей ```prob```"
   ]
  },
  {
   "cell_type": "code",
   "execution_count": null,
   "id": "66d9beef-0bb4-4201-a9bb-5a591860cc76",
   "metadata": {},
   "outputs": [],
   "source": [
    "def plot_probability(prob, n, m):\n",
    "    plt.xlim(0, m - 1)\n",
    "    plt.ylim(0, n - 1)\n",
    "    plt.imshow(prob)"
   ]
  },
  {
   "cell_type": "markdown",
   "id": "c3d5d6e9-4209-454e-8b0b-42ade5363e12",
   "metadata": {},
   "source": [
    "##### В данной модели матрица перехода берёт на себя роль комплексного перемещения рыбаков на льдине. Она может быть посчитана исходя из текущих метеороголических сводок, то есть из суммы векторов ветра, течения и.т.д. Дополнительно можно увеличивать силу переносных сил за счет сдвига ```pivot``` или изменения матрицы "
   ]
  },
  {
   "cell_type": "markdown",
   "id": "38df0de3-d975-4d16-a9fe-5e13d4f95526",
   "metadata": {},
   "source": [
    "Вводные данные включают в себя:  \n",
    "```n, m``` - размер района поиска в проекции, разделён на одинаковые области  \n",
    "```prob``` - район поиска, заполненный вероятностями нахождения нужной льдины в каждой из областей  \n",
    "```pivot``` - элемент матрицы перехода, совпадающий при наложении с переходящим элементом  \n",
    "```mask``` - матрица перехода. Вероятности перехода льдины из данной области в соответствующие области относительно ```pivot```  "
   ]
  },
  {
   "cell_type": "markdown",
   "id": "cf271ac4-dd3c-4f29-b18c-c4eff11791c6",
   "metadata": {},
   "source": [
    "Положим модельный пример:  \n",
    "Район поисков представляет собой прямоугольник размером ```n * m``` метров, разделенных на равные квадратные области размером ```1 * 1``` метр  \n",
    "До вылазки, рыбаки оставили координаты пребывания береговой службе. Пусть они рыбачили на координатах ```(50, 10)```  \n",
    "Ветер юго-западный, с тяготением к южному, изменчивость воздушного потока отражается в матрице перехода (вероятность сдвинуться на юг ```0.3```, на юго-запад ```0.2```, остаться на месте ```0.2```)"
   ]
  },
  {
   "cell_type": "code",
   "execution_count": null,
   "id": "d6d442be-f457-4ce6-8996-f64f611868e4",
   "metadata": {},
   "outputs": [],
   "source": [
    "n = 100\n",
    "m = 200\n",
    "prob = np.zeros((n, m))\n",
    "prob[50][10] = 1\n",
    "mask = np.array([[0.1, 0.2, 0.1], [0.1, 0.3, 0.2]])\n",
    "pivot = (1, 1)"
   ]
  },
  {
   "cell_type": "markdown",
   "id": "83e8ed71-9db0-4da1-a646-1f510e828ea3",
   "metadata": {},
   "source": [
    "С отрыва льдины прошло 60 секунд:"
   ]
  },
  {
   "cell_type": "code",
   "execution_count": null,
   "id": "217bd17e-2e6e-4aa2-b745-6f5ef6b2414f",
   "metadata": {},
   "outputs": [],
   "source": [
    "for i in tqdm(range(60)):\n",
    "    prob = iteration(prob, mask, pivot, n, m)"
   ]
  },
  {
   "cell_type": "code",
   "execution_count": null,
   "id": "4f008c92-da8a-4cda-b783-eb73c72fe16d",
   "metadata": {},
   "outputs": [],
   "source": [
    "plot_probability(prob, n, m)"
   ]
  },
  {
   "cell_type": "markdown",
   "id": "54881190-5984-4bc2-95e5-b093fc0ee74d",
   "metadata": {},
   "source": [
    "Далее ветер изменился на восточный:"
   ]
  },
  {
   "cell_type": "code",
   "execution_count": null,
   "id": "5ffe3f64-ccd5-42c3-96f8-3cd75209df8d",
   "metadata": {},
   "outputs": [],
   "source": [
    "mask = np.array([[0.3, 0.7]])\n",
    "pivot = (0, 0)"
   ]
  },
  {
   "cell_type": "markdown",
   "id": "c0829ab8-312e-48e1-b2d4-b61cd7d1347b",
   "metadata": {},
   "source": [
    "Прошло ещё 40 секунд:"
   ]
  },
  {
   "cell_type": "code",
   "execution_count": null,
   "id": "ef7bedce-d935-4223-b714-dc85b5eaa35f",
   "metadata": {},
   "outputs": [],
   "source": [
    "for i in tqdm(range(40)):\n",
    "    prob = iteration(prob, mask, pivot, n, m)"
   ]
  },
  {
   "cell_type": "code",
   "execution_count": null,
   "id": "b7d72e5a-57e9-43f3-9112-0c2b1c51e4bf",
   "metadata": {},
   "outputs": [],
   "source": [
    "plot_probability(prob, n, m)"
   ]
  },
  {
   "cell_type": "markdown",
   "id": "f134a62d-f633-4ed1-87c7-981fdb1e6035",
   "metadata": {},
   "source": [
    "В небо был запущен БЛА с распознаванием объектов по информации с видеокамеры. Он пролетел вертикально и выдал вероятности нахождения людей в областях пролёта"
   ]
  },
  {
   "cell_type": "code",
   "execution_count": null,
   "id": "9186f33a-fd3d-4e16-a56f-dfe5372dfc5a",
   "metadata": {},
   "outputs": [],
   "source": [
    "info = input_information(n, m)\n",
    "info[:, 40] = 0.3\n",
    "info[20:23, 40] = 0.65\n",
    "info[25:30, 40] = 0.9"
   ]
  },
  {
   "cell_type": "markdown",
   "id": "1c49e653-7929-44cb-863f-c52b4e5b67af",
   "metadata": {},
   "source": [
    "Информация с БЛА была занесена в систему"
   ]
  },
  {
   "cell_type": "code",
   "execution_count": null,
   "id": "7dbd451c-7270-4f03-a18f-9cbe396d380a",
   "metadata": {},
   "outputs": [],
   "source": [
    "prob = clarify(prob, info, n, m)"
   ]
  },
  {
   "cell_type": "code",
   "execution_count": null,
   "id": "667e7c5b-0b6c-4672-8d0a-d5c839230150",
   "metadata": {},
   "outputs": [],
   "source": [
    "plot_probability(prob, n, m)"
   ]
  },
  {
   "cell_type": "markdown",
   "id": "d59a57fc-de10-4e86-8bca-4b075de0484d",
   "metadata": {},
   "source": [
    "Далее вылетел спасательный вертолет, и наблюдатель обнаружил объекты на трёх льдинах (а на остальных подтвердил отсуствие)"
   ]
  },
  {
   "cell_type": "code",
   "execution_count": null,
   "id": "d0aaa013-724e-4212-9a9f-abafdcb7bbac",
   "metadata": {},
   "outputs": [],
   "source": [
    "info = input_information(n, m)\n",
    "info[:, :] = 0\n",
    "info[27, 40] = 1\n",
    "info[40, 45] = 1\n",
    "info[50, 50] = 1\n",
    "prob = clarify(prob, info, n, m)"
   ]
  },
  {
   "cell_type": "code",
   "execution_count": null,
   "id": "aa5e3345-6f01-4152-b6aa-d8925685ff43",
   "metadata": {},
   "outputs": [],
   "source": [
    "plot_probability(prob, n, m)"
   ]
  },
  {
   "cell_type": "markdown",
   "id": "3a302af6-8593-41be-833e-d19ef6dd891f",
   "metadata": {},
   "source": [
    "В эту точку планируют отправить катер. Предварительно рассчитав, что от берега до неё 30 секунд, можно заранее аппроксимировать область поиска для катера"
   ]
  },
  {
   "cell_type": "code",
   "execution_count": null,
   "id": "bb7d5123-12f2-41d9-91e2-ae1e33311891",
   "metadata": {},
   "outputs": [],
   "source": [
    "mask = np.array([[0.3, 0.3], [0.3, 0.1]])\n",
    "pivot = (1, 1)\n",
    "for i in tqdm(range(30)):\n",
    "    prob = iteration(prob, mask, pivot, n, m)"
   ]
  },
  {
   "cell_type": "code",
   "execution_count": null,
   "id": "317cf4b2-60f0-49ab-82e5-1a6e2b2ad0c8",
   "metadata": {},
   "outputs": [],
   "source": [
    "plot_probability(prob, n, m)"
   ]
  },
  {
   "cell_type": "code",
   "execution_count": null,
   "id": "af63cee5-4ddf-44c3-83e8-b5274451dd7d",
   "metadata": {},
   "outputs": [],
   "source": []
  }
 ],
 "metadata": {
  "kernelspec": {
   "display_name": "Python 3 (ipykernel)",
   "language": "python",
   "name": "python3"
  },
  "language_info": {
   "codemirror_mode": {
    "name": "ipython",
    "version": 3
   },
   "file_extension": ".py",
   "mimetype": "text/x-python",
   "name": "python",
   "nbconvert_exporter": "python",
   "pygments_lexer": "ipython3",
   "version": "3.11.6"
  }
 },
 "nbformat": 4,
 "nbformat_minor": 5
}
