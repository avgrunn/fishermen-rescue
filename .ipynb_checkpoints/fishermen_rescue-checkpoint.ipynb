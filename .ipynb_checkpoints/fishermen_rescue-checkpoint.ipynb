{
 "cells": [
  {
   "cell_type": "code",
   "execution_count": null,
   "id": "01c2ab4a-91f9-4deb-bd4d-e98a55d3d004",
   "metadata": {},
   "outputs": [],
   "source": [
    "import numpy as np\n",
    "import matplotlib.pyplot as plt"
   ]
  },
  {
   "cell_type": "markdown",
   "id": "5ca342a6-88d5-49ca-80dd-9d3287be8690",
   "metadata": {},
   "source": [
    "Функция ```prepare_mask``` сдвигает матрицу перехода ```mask``` на ```shift``` элементов вправо относительно её главного элемента ```pivot``` с учётом вектора смещения ```wind_direction```"
   ]
  },
  {
   "cell_type": "code",
   "execution_count": null,
   "id": "2fd40579-9f87-4d90-8632-aa241aa9d287",
   "metadata": {},
   "outputs": [],
   "source": [
    "def prepare_mask(mask, shift, n):\n",
    "    if shift < len(mask) // 2:\n",
    "        mask_ = mask[(len(mask) // 2 - shift):]\n",
    "    elif n - shift - 1 < len(mask) // 2:\n",
    "        mask_ = mask[:(len(mask) // 2 + (n - shift))]\n",
    "    else:\n",
    "        mask_ = mask\n",
    "    leftpad = max(0, shift - len(mask) // 2)\n",
    "    rightpad = max(0, n - len(mask_) - leftpad)\n",
    "    mask_ = np.pad(mask_, (leftpad, rightpad), 'constant')\n",
    "    return mask_"
   ]
  },
  {
   "cell_type": "markdown",
   "id": "9d67d6b8-8739-4a2c-8b5d-ddb260817eb1",
   "metadata": {},
   "source": [
    "##### С использованием современных технологий, центр управления способен отслеживать синоптические данные в режиме реального времени. С использованием информации о параметрах ветра в районе проведения поисков становится возможным предсказать вероятности нахождения оторвавшейся льдины в каждой из областей. В данном случае в качестве упрощения в модели берётся фиксированный квант времени, за который вероятности перемещения льдины заранее известны"
   ]
  },
  {
   "cell_type": "markdown",
   "id": "383bdafe-e404-4bf7-856b-e19bd6eaf2a1",
   "metadata": {},
   "source": [
    "Функция ```iteration``` производит одну итерацию применения матрицы перехода ```mask``` к каждому элементу массива вероятностей ```prob```"
   ]
  },
  {
   "cell_type": "code",
   "execution_count": null,
   "id": "1e7f3147-f017-42f7-bf5b-9ffa708e2b45",
   "metadata": {},
   "outputs": [],
   "source": [
    "def iteration(prob, mask):\n",
    "    n = len(prob)\n",
    "    prob_ = np.zeros((n))\n",
    "    for i in range(0, n):\n",
    "        prob_ += prob[i] * prepare_mask(mask, i, n)\n",
    "    return prob_"
   ]
  },
  {
   "cell_type": "markdown",
   "id": "94c1a72f-89ef-4b46-832c-3a57561959d8",
   "metadata": {},
   "source": [
    "##### В моделе предусмотрено введение в систему дополнительной информации с целью уточнения и корректировки уже просчитанных вероятностей. Предоставляется интерфейс ввода вероятностей нахождения льдины в каждой из областей. Это мотивировано спецификой работы нейронных сетей распознавания образов - на выходе модели мы всегда получаем вероятность обнаружения объекта. Таким образом, на практике можно использовать любй доступный беспилотный летательный аппарат с возможностью анализа входного видеопотока с наружней камеры для определения вероятности нахождения льдины с людьми в той области, которая в данный момент просматривается БЛА. Данный подход также мотивирован неидеальностью условий, в которых человек производит наблюдения. Даже в случае задействования спасательного вертолета с наблюдателем, погодные условия (туман, осадки...), высота, острота зрения, посторонние объекты на льдинах (тёмные камни, животные...) и прочие факторы могут сказаться на уверенности спасателя в обнаружении нужной льдины с людьми"
   ]
  },
  {
   "cell_type": "markdown",
   "id": "acb433b3-2b1e-4ec6-a486-7e44cf1306ca",
   "metadata": {},
   "source": [
    "Функция ```input_information``` заполняет массив ```h``` априорными вероятностями гипотез"
   ]
  },
  {
   "cell_type": "code",
   "execution_count": null,
   "id": "5a3c9055-1705-405d-88b1-04d505a76c67",
   "metadata": {},
   "outputs": [],
   "source": [
    "def input_information(n):\n",
    "    h = [None] * n\n",
    "    return h"
   ]
  },
  {
   "cell_type": "markdown",
   "id": "d3999aa5-a595-475a-9517-f6fae5fe6183",
   "metadata": {},
   "source": [
    "Функция ```clarify``` использует формулу Байеса для вычисления апостериорных вероятностей для каждого из элементов массива вероятностей ```prob``` используя априорные вероятности ```h```"
   ]
  },
  {
   "cell_type": "code",
   "execution_count": null,
   "id": "6d241492-de39-46bd-ac2c-706cd91f780f",
   "metadata": {},
   "outputs": [],
   "source": [
    "def clarify(prob, h):\n",
    "    prob_ = prob\n",
    "    n = len(prob)\n",
    "    for i in range(n):\n",
    "        if h[i] is not None:\n",
    "            prob_[i] *= h[i]\n",
    "    prob_ /= np.sum(prob_)\n",
    "    return prob_"
   ]
  },
  {
   "cell_type": "markdown",
   "id": "9dd355be-031c-44dc-add8-953f3931dbb7",
   "metadata": {},
   "source": [
    "#### Визуальное отображение результатов вычислений важно для принятия решений спасательным центром ввиду абстрагирования данной модели от различных комплексных факторов, таких как риск проведения спасательной операции, особенности географии местности, оперативные данные и пр."
   ]
  },
  {
   "cell_type": "markdown",
   "id": "35d67006-8e3f-4a5d-a53c-70b804dff2bc",
   "metadata": {},
   "source": [
    "Функция ```plot_probability``` графически отображает массив вероятностей ```prob```"
   ]
  },
  {
   "cell_type": "code",
   "execution_count": null,
   "id": "66d9beef-0bb4-4201-a9bb-5a591860cc76",
   "metadata": {},
   "outputs": [],
   "source": [
    "def plot_probability(prob):\n",
    "    n = len(prob)\n",
    "    plt.xlim(0, n - 1)\n",
    "    plt.ylim(0, 1)\n",
    "    plt.plot(prob)"
   ]
  },
  {
   "cell_type": "code",
   "execution_count": null,
   "id": "d6d442be-f457-4ce6-8996-f64f611868e4",
   "metadata": {},
   "outputs": [],
   "source": [
    "n = 100\n",
    "prob = np.zeros((n))\n",
    "prob[50] = 1\n",
    "mask = np.array([0.25, 0.5, 0.25]) # must be odd"
   ]
  },
  {
   "cell_type": "code",
   "execution_count": null,
   "id": "217bd17e-2e6e-4aa2-b745-6f5ef6b2414f",
   "metadata": {},
   "outputs": [],
   "source": [
    "prob = iteration(prob, mask)\n",
    "prob = clarify(prob, input_information(n))"
   ]
  },
  {
   "cell_type": "code",
   "execution_count": null,
   "id": "667e7c5b-0b6c-4672-8d0a-d5c839230150",
   "metadata": {},
   "outputs": [],
   "source": [
    "plot_probability(prob)"
   ]
  },
  {
   "cell_type": "code",
   "execution_count": null,
   "id": "230eb235-7965-43bf-99c1-26744006ea04",
   "metadata": {},
   "outputs": [],
   "source": []
  }
 ],
 "metadata": {
  "kernelspec": {
   "display_name": "Python 3 (ipykernel)",
   "language": "python",
   "name": "python3"
  },
  "language_info": {
   "codemirror_mode": {
    "name": "ipython",
    "version": 3
   },
   "file_extension": ".py",
   "mimetype": "text/x-python",
   "name": "python",
   "nbconvert_exporter": "python",
   "pygments_lexer": "ipython3",
   "version": "3.11.6"
  }
 },
 "nbformat": 4,
 "nbformat_minor": 5
}
