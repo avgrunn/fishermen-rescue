{
 "cells": [
  {
   "cell_type": "code",
   "execution_count": null,
   "id": "e220c6e4-2b80-4f57-ad70-2b9bb71a9b87",
   "metadata": {},
   "outputs": [],
   "source": [
    "import numpy as np"
   ]
  },
  {
   "cell_type": "code",
   "execution_count": null,
   "id": "d6d442be-f457-4ce6-8996-f64f611868e4",
   "metadata": {},
   "outputs": [],
   "source": [
    "n = 100\n",
    "a = np.zeros((n))\n",
    "a[50] = 1\n",
    "msk = np.array([0.25, 0.5, 0.25]) # must be odd\n",
    "\n",
    "# iter\n",
    "a_ = np.zeros((n))\n",
    "for i in range(0, n):\n",
    "    # prepare_mask\n",
    "    if i < len(msk) // 2:\n",
    "        msk_ = msk[(len(msk) // 2 - i):]\n",
    "    elif n - i - 1 < len(msk) // 2:\n",
    "        msk_ = msk[:(len(msk) // 2 + (n - i))]\n",
    "    else:\n",
    "        msk_ = msk\n",
    "    leftpad = max(0, i - len(msk) // 2)\n",
    "    rightpad = max(0, n - len(msk_) - leftpad)\n",
    "    msk_ = np.pad(msk_, (leftpad, rightpad), 'constant')\n",
    "    a_ += a[i] * msk_\n",
    "a = a_\n",
    "\n",
    "# helicopter init\n",
    "h = np.zeros((n))\n",
    "h[49] = 1\n",
    "\n",
    "# posterior\n",
    "a *= h\n",
    "a /= np.sum(a)\n",
    "print(a)"
   ]
  },
  {
   "cell_type": "code",
   "execution_count": null,
   "id": "d0c25164-4989-4489-b983-e6e487d0c2bf",
   "metadata": {},
   "outputs": [],
   "source": []
  }
 ],
 "metadata": {
  "kernelspec": {
   "display_name": "Python 3 (ipykernel)",
   "language": "python",
   "name": "python3"
  },
  "language_info": {
   "codemirror_mode": {
    "name": "ipython",
    "version": 3
   },
   "file_extension": ".py",
   "mimetype": "text/x-python",
   "name": "python",
   "nbconvert_exporter": "python",
   "pygments_lexer": "ipython3",
   "version": "3.11.6"
  }
 },
 "nbformat": 4,
 "nbformat_minor": 5
}
